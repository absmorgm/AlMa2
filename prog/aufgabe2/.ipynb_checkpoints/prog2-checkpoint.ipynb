{
 "cells": [
  {
   "cell_type": "markdown",
   "metadata": {},
   "source": [
    "## Programmieraufgabe 2  "
   ]
  },
  {
   "cell_type": "markdown",
   "metadata": {},
   "source": [
    "<span style=\"color:red; font-weight: bold\">Wichtig: Damit alle ben&ouml;tigten Pakete richtig eingebunden werden, f&uuml;hren Sie die n&auml;chste Zelle einmal aus, sobald Sie das Notebook neu &ouml;ffnen.</span>"
   ]
  },
  {
   "cell_type": "code",
   "execution_count": 30,
   "metadata": {},
   "outputs": [],
   "source": [
    "# some setup\n",
    "%matplotlib inline\n",
    "from ipywidgets import *\n",
    "import numpy as np # makes numpy routines and data types available as np.[name ouf routine or data type]\n",
    "import matplotlib.pyplot as plt # makes plotting command available as plot.[name of command]\n",
    "\n",
    "from ipywidgets import interactive\n",
    "import random\n",
    "import math"
   ]
  },
  {
   "cell_type": "markdown",
   "metadata": {},
   "source": [
    "## W&uuml;rfeln II\n",
    "\n",
    "a)  Erzeugen Sie eine Liste mit $n = 100$ Zufallszahlen aus der Menge $\\{ 1,2,3,4,5,6 \\}$,\n",
    "und bestimmen Sie, wie oft die Zahl 3 in der Liste vorkommt. \n",
    "Welche Verteilung hat die Zufallsvariable $Z(\\omega)$, die dieses Zufallsexperiment modelliert?\n",
    "\n",
    "b)  Wir wiederholen das Experiment nun $m = 2000$ mal. \n",
    "Speichern  Sie  in  einer  Liste $z$ die beobachteten (relativen) H&auml;ufigkeiten der Zahl 3 in jeder der $m$ Stichproben von jeweils $n$ Zufallszahlen.\n",
    "\n",
    "c)  Die  Liste $z$ enth&auml;lt nun  $m$  (pseudozuf&auml;llige)  Realisierungen  der  Werte  der  Zufallsvariablen $Z$. \n",
    "Erstellen Sie ein Histogramm von $z$. \n",
    "Zeichnen Sie das Histogramm in  ein  Diagramm  zusammen  mit  der  Massenfunktion  der  Zufallsvariablen $Z$ \n",
    "und vergleichen Sie.\n",
    "\n",
    "d)  Erstellen Sie mithilfe von $\\texttt{interactive}$ ein entsprechendes Histogramm f&uuml;r die ersten\n",
    "$k$ Werte der Liste $z$, wobei $k$ zwischen 1 und $m$ variiert werden kann. Was beobachten Sie?"
   ]
  },
  {
   "cell_type": "code",
   "execution_count": 17,
   "metadata": {},
   "outputs": [],
   "source": [
    "import scipy.stats\n",
    "random.seed(\"Czernik_Hinrichs_Podstavek\")\n",
    "\n",
    "def rel_freq():\n",
    "    temp = [random.randint(1, 6) for i in range (100)]\n",
    "\n",
    "    count = 0\n",
    "    for i in temp:\n",
    "        if i == 3: \n",
    "            count = count + 1\n",
    "    return count"
   ]
  },
  {
   "cell_type": "markdown",
   "metadata": {},
   "source": [
    " **Aufgabenteil (a)**"
   ]
  },
  {
   "cell_type": "code",
   "execution_count": 18,
   "metadata": {
    "scrolled": true
   },
   "outputs": [
    {
     "data": {
      "text/plain": [
       "19"
      ]
     },
     "execution_count": 18,
     "metadata": {},
     "output_type": "execute_result"
    }
   ],
   "source": [
    "rel_freq()"
   ]
  },
  {
   "cell_type": "markdown",
   "metadata": {},
   "source": [
    "Wir haben eine Binomialverteilung mit p = 1/6 und n = 100"
   ]
  },
  {
   "cell_type": "markdown",
   "metadata": {},
   "source": [
    "**Aufgabenteil (b)**"
   ]
  },
  {
   "cell_type": "code",
   "execution_count": 22,
   "metadata": {},
   "outputs": [],
   "source": [
    "z = [rel_freq() for i in range(2000)]"
   ]
  },
  {
   "cell_type": "markdown",
   "metadata": {},
   "source": [
    "**Aufgabenteil (c)**"
   ]
  },
  {
   "cell_type": "code",
   "execution_count": 28,
   "metadata": {},
   "outputs": [
    {
     "data": {
      "image/png": "[encoded data removed]",
      "text/plain": [
       "<Figure size 432x288 with 1 Axes>"
      ]
     },
     "metadata": {
      "needs_background": "light"
     },
     "output_type": "display_data"
    }
   ],
   "source": [
    "\n",
    "def f(k): \n",
    "    return math.comb(100, k) * (1/6)**k * (5/6)**(100-k)\n",
    "\n",
    "x = [k for k in range(101)]\n",
    "y = [f(k) for k in x]\n",
    "\n",
    "fig = plt.figure()\n",
    "sp = fig.add_subplot()\n",
    "\n",
    "sp.hist(z, range(101), density = True)\n",
    "sp.plot(x, y)\n",
    "plt.show()\n"
   ]
  },
  {
   "cell_type": "markdown",
   "metadata": {},
   "source": [
    "**Aufgabenteil (d)**"
   ]
  },
  {
   "cell_type": "code",
   "execution_count": 32,
   "metadata": {},
   "outputs": [
    {
     "data": {
      "application/vnd.jupyter.widget-view+json": {
       "model_id": "67e361ec797a4ffabff6be02c33f5262",
       "version_major": 2,
       "version_minor": 0
      },
      "text/plain": [
       "interactive(children=(IntSlider(value=10, description='k', max=2000, min=1, step=100), Output()), _dom_classes…"
      ]
     },
     "metadata": {},
     "output_type": "display_data"
    }
   ],
   "source": [
    "def update(k):\n",
    "    plt.hist(z[0:k], range(101), density = True)\n",
    "    plt.plot(x, y)\n",
    "    \n",
    "interact(update, k=widgets.IntSlider(min=1, max=2000, step=100, value=10));"
   ]
  },
  {
   "cell_type": "markdown",
   "metadata": {},
   "source": [
    "wir beobachten: Je größer wird $m$, desto mehr ähnelt sich das Histogramm dem Graphen der Massenfunktion"
   ]
  }
 ],
 "metadata": {
  "anaconda-cloud": {},
  "kernelspec": {
   "display_name": "Python 3",
   "language": "python",
   "name": "python3"
  },
  "language_info": {
   "codemirror_mode": {
    "name": "ipython",
    "version": 3
   },
   "file_extension": ".py",
   "mimetype": "text/x-python",
   "name": "python",
   "nbconvert_exporter": "python",
   "pygments_lexer": "ipython3",
   "version": "3.8.5"
  }
 },
 "nbformat": 4,
 "nbformat_minor": 1
}
