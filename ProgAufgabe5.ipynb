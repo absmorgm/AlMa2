{
 "cells": [
  {
   "cell_type": "markdown",
   "metadata": {},
   "source": [
    "##  Programmieraufgabe 5"
   ]
  },
  {
   "cell_type": "markdown",
   "metadata": {},
   "source": [
    "<span style=\"color:red; font-weight: bold\">Wichtig: Damit alle ben&ouml;tigten Pakete richtig eingebunden werden, f&uuml;hren Sie die n&auml;chste Zelle einmal aus, sobald Sie das Notebook neu &ouml;ffnen.</span>"
   ]
  },
  {
   "cell_type": "code",
   "execution_count": 1,
   "metadata": {},
   "outputs": [],
   "source": [
    "# some setup\n",
    "%matplotlib inline\n",
    "import numpy as np \n",
    "from numpy import linalg as LA\n",
    "import matplotlib.pyplot as plt "
   ]
  },
  {
   "cell_type": "markdown",
   "metadata": {
    "collapsed": true
   },
   "source": [
    "## Newton-Verfahren\n",
    "\n",
    "(a) Schreiben Sie ein Programm zur iterativen L&ouml;sung nichtlinearer Gleichungssysteme $f(x) = 0$ \n",
    "mit Hilfe des Newton-Verfahrens, wobei $f: R^n \\to R^n$ stetig differenzierbar ist.\n",
    "\n",
    "Der Aufruf des Programms soll mit\n",
    "\\begin{equation}\n",
    "\\texttt{[x,X] = newton}(\\texttt{f, df, x0, tol, kmax});\n",
    "\\end{equation}\n",
    "erfolgen mit den Eingabeparametern\n",
    "\\begin{align}\n",
    "\\texttt{f, df} \\qquad &\\text{Funktion } y = f(x), \\text{ bzw. Jacobimatrix } J = f'(x) \\text{ der Funktion }f \\\\\n",
    "\\texttt{x0} \\qquad &\\text{Startvektor } x^{(0)} \\text{ der Iteration} \\\\\n",
    "\\texttt{tol} \\qquad &\\text{Fehlertoleranz} \\\\\n",
    "\\texttt{kmax} \\qquad &\\text{maximale Anzahl der Iterationen} \n",
    "\\end{align}\n",
    "und Ausgabeparameter \n",
    "\\begin{align}\n",
    "\\texttt{[x, X]} \\qquad &\\text{Approximation der Nullstelle } x^*,  f(x^*) = 0, \\\\ \n",
    "&\\text{und Folge der Iterierten } x^{(0)}, x^{(1)}, \\ldots  \\text{ in den Spalten der Matrix } X. \n",
    "\\end{align}\n",
    "\n",
    "\n",
    "Dabei soll die Iteration abgebrochen werden, falls die maximale Iterationszahl $\\texttt{kmax}$ &uuml;berschritten wurde oder\n",
    "\\begin{equation}\n",
    "\\| f(x^{(k)} ) \\|_2 + \\| x^{(k-1)} - x^{(k)}\\|_2 < \\texttt{tol}\n",
    "\\end{equation}\n",
    "gilt. \n",
    "\n",
    "\n",
    "$\\textit{Hinweis:}$ Zur L&ouml;sung des linearen Gleichungssystems in jedem Schritt k&ouml;nnen Sie die $\\texttt{solve}$-Funktion der $\\texttt{linalg}$-Bibliothek benutzen. Die Lösung von $Ay=b$ wird mit Hilfe der 𝚕𝚒𝚗𝚊𝚕𝚐-Bibliothek und dem Befehl 𝚕𝚒𝚗𝚊𝚕𝚐.𝚜𝚘𝚕𝚟𝚎(𝙰,𝚋) berechnet."
   ]
  },
  {
   "cell_type": "code",
   "execution_count": 3,
   "metadata": {},
   "outputs": [],
   "source": [
    "# Fuegen Sie hier Ihre Loesung ein.\n",
    "def error(f, x1, x0):\n",
    "    return LA.norm(f(x1)) + LA.norm(np.subtract(x1, x0))\n",
    "    \n",
    "def newton(f, df, x0, tol, kmax):\n",
    "    xs = []\n",
    "    xs.append([])\n",
    "    x_last = x0\n",
    "    x_new = x0\n",
    "    for i in range(kmax):\n",
    "        err = error(f, x_new, x_last)\n",
    "        x_last = x_new\n",
    "        if err < tol:\n",
    "            break \n",
    "        else:\n",
    "            xs.append(x_last)\n",
    "            h = LA.solve(df(x_last), np.multiply(-1,f(x_last)))\n",
    "            x_new = np.add(x_last, h)\n",
    "        \n",
    "    xs[0] = x_new\n",
    "    return xs"
   ]
  },
  {
   "cell_type": "markdown",
   "metadata": {},
   "source": [
    "(b) Finden Sie mit Hilfe des Programms eine Nullstelle zu\n",
    "\\begin{equation}\n",
    "x_1 + e^{-x_1} + x_2^3 = 0\\, , \\quad x_1^2 + 2x_1x_2 - x_2^2 + \\tan(x_1) = 0\\, , \\quad x_1,x_2 \\in R\\, .\n",
    "\\end{equation}\n",
    "W&auml;hlen Sie $\\epsilon = 10^{-8}$, $kmax = 100$ und probieren Sie unterschiedliche Startwerte $x^{(0)}$ aus, z.B. $x^{(0)} = (-1,-1)$."
   ]
  },
  {
   "cell_type": "code",
   "execution_count": 4,
   "metadata": {},
   "outputs": [
    {
     "name": "stdout",
     "output_type": "stream",
     "text": [
      "[-1.26997419 -1.31824117]\n"
     ]
    },
    {
     "data": {
      "text/plain": [
       "[0.0, 4.440892098500626e-16]"
      ]
     },
     "execution_count": 4,
     "metadata": {},
     "output_type": "execute_result"
    }
   ],
   "source": [
    "# Fuegen Sie hier Ihre Loesung ein.\n",
    "def f(x):  \n",
    "    x1, x2 = x\n",
    "    return [x1 + np.exp(-x1) + pow(x2,3),\n",
    "            pow(x1,2) + 2*x1*x2 - pow(x2,2) + np.tan(x1)]\n",
    "\n",
    "def df(x):\n",
    "    x1, x2 = x\n",
    "    return [[1 - np.exp(-x1), 3*pow(x2,2)],\n",
    "            [2*x1 + 2*x2 + 1/(pow(np.cos(x1),2)), 2*x1 - 2*x2]\n",
    "           ]\n",
    "\n",
    "x0 = [-1, -1]\n",
    "\n",
    "e = pow(10, -8)\n",
    "kmax = 1000\n",
    "\n",
    "erg1 = newton(f, df, x0, e, kmax)\n",
    "print(erg1[0])\n",
    "f(erg1[0])"
   ]
  },
  {
   "cell_type": "markdown",
   "metadata": {},
   "source": [
    "(c) Gegeben sei das nichtlineare Gleichungssystem\n",
    "\\begin{align}\n",
    "3x_2 = 0\\, , \\quad x_1^2 + \\frac{2x_2}{x_2 + 5} = 0\\, , \\quad x_1,x_2 \\in R\\, ,\n",
    "\\end{align}\n",
    "dessen eindeutig bestimmte L&ouml;sung $(x_1,x_2) = (0,0)$ ist. \n",
    "F&uuml;hren Sie das Newtonverfahren mit Startwert $x^{(0)} = (1,0)$ aus (z.B. mit Fehlertoleranz $\\epsilon = 10^{-8}$, $kmax = 50$)."
   ]
  },
  {
   "cell_type": "code",
   "execution_count": 5,
   "metadata": {},
   "outputs": [
    {
     "name": "stdout",
     "output_type": "stream",
     "text": [
      "[-8.84756446e-09  0.00000000e+00]\n"
     ]
    },
    {
     "data": {
      "text/plain": [
       "[1.0, -8.847564380567649e-09]"
      ]
     },
     "execution_count": 5,
     "metadata": {},
     "output_type": "execute_result"
    }
   ],
   "source": [
    "# Fuegen Sie hier Ihre Loesung ein.\n",
    "\n",
    "e = pow(10, -8)\n",
    "kmax = 50\n",
    "\n",
    "def f2(x):\n",
    "    x1, x2 = x\n",
    "    return [3*x2,\n",
    "           pow(x1,2) + 2*x2 / (x2 + 5)]\n",
    "\n",
    "def df2(x):\n",
    "    x1, x2 = x\n",
    "    return [[0 , 3],\n",
    "           [2*x1, 5 / pow(x2 + 5,2)]]\n",
    "\n",
    "erg2 = newton(f2, df2, x0, e, kmax)\n",
    "print(erg2[0])\n",
    "f(erg2[0])"
   ]
  },
  {
   "cell_type": "code",
   "execution_count": null,
   "metadata": {},
   "outputs": [],
   "source": []
  }
 ],
 "metadata": {
  "anaconda-cloud": {},
  "kernelspec": {
   "display_name": "Python 3",
   "language": "python",
   "name": "python3"
  },
  "language_info": {
   "codemirror_mode": {
    "name": "ipython",
    "version": 3
   },
   "file_extension": ".py",
   "mimetype": "text/x-python",
   "name": "python",
   "nbconvert_exporter": "python",
   "pygments_lexer": "ipython3",
   "version": "3.8.5"
  }
 },
 "nbformat": 4,
 "nbformat_minor": 1
}
