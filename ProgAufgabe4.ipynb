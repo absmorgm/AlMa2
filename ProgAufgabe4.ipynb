{
 "cells": [
  {
   "cell_type": "markdown",
   "metadata": {},
   "source": [
    "##  Programmieraufgabe 4 "
   ]
  },
  {
   "cell_type": "markdown",
   "metadata": {},
   "source": [
    "<span style=\"color:red; font-weight: bold\">Wichtig: Damit alle ben&ouml;tigten Pakete richtig eingebunden werden, f&uuml;hren Sie die n&auml;chste Zelle einmal aus, sobald Sie das Notebook neu &ouml;ffnen.</span>"
   ]
  },
  {
   "cell_type": "code",
   "execution_count": 1,
   "metadata": {},
   "outputs": [],
   "source": [
    "# some setup\n",
    "%matplotlib inline\n",
    "import numpy as np # makes numpy routines and data types available as np.[name ouf routine or data type]\n",
    "import matplotlib.pyplot as plt # makes plotting command available as plot.[name of command]\n",
    "\n",
    "from __future__ import print_function\n",
    "from ipywidgets import interact, interactive, fixed\n",
    "import ipywidgets as widgets\n",
    "\n",
    "import random"
   ]
  },
  {
   "cell_type": "markdown",
   "metadata": {},
   "source": [
    "## Evolution der Verteilungsfunktion einer Markov Kette\n",
    "\n",
    "Betrachten Sie die Markov Kette $(X_n)_{n\\geq 1}$ auf $S=\\{0,1,\\ldots,N-1\\}$ mit Übergangsmatrix \n",
    "$P=\\begin{bmatrix}\n",
    "0 & 1 & 0 & \\cdots & 0 \\\\\n",
    "q & 0 & p & \\ddots & \\vdots \\\\\n",
    "0 & \\ddots & \\ddots & \\ddots & 0 \\\\\n",
    "\\vdots & \\ddots  & q & \\ddots & p\\\\\n",
    "0 & \\cdots & 0 & 1 & 0\n",
    "\\end{bmatrix}$\n",
    "mit $N\\geq 2$ und $p$ beliegig und $q=1-p$. Die stationäre Verteilung $M_{inv}$ ist proportinal zu\n",
    "$\\nu=(\\nu_0,\\dotsc, \\nu_{N-1})$ mit $\\nu_0=1$, $\\nu_i=p^{i-1}/q^{i}$, $1\\leq i \\leq N-2$ und $\\nu_{N-1}=p^{N-2}/q^{N-2}$.\n",
    "\n",
    "a) Definiere eine Funktion, $\\texttt{Minv}$, die als Input $N,p$ nimmt und als Output die stationäre Verteilung $M_{inv}=(M_{inv}(x))_{0\\leq x\\leq N-1}$ gibt.\n",
    "\n",
    "b) Erstellen Sie einen Plot von $M_{inv}$ für $N=20,p=1/2$ und $N=20,p=1/3$."
   ]
  },
  {
   "cell_type": "code",
   "execution_count": 2,
   "metadata": {},
   "outputs": [
    {
     "name": "stdout",
     "output_type": "stream",
     "text": [
      "[0.006676751343174592, 0.01669187835793648, 0.025037817536904712, 0.037556726305357065, 0.056335089458035593, 0.08450263418705341, 0.12675395128058006, 0.19013092692087008, 0.28519639038130506, 0.17111783422878304]\n"
     ]
    },
    {
     "data": {
      "text/plain": [
       "[<matplotlib.lines.Line2D at 0x7faf30c95280>]"
      ]
     },
     "execution_count": 2,
     "metadata": {},
     "output_type": "execute_result"
    },
    {
     "data": {
      "image/png": "[encoded data removed]",
      "text/plain": [
       "<Figure size 432x288 with 1 Axes>"
      ]
     },
     "metadata": {
      "needs_background": "light"
     },
     "output_type": "display_data"
    }
   ],
   "source": [
    "#(a)\n",
    "def Minv(N, p):\n",
    "    mueh = []\n",
    "    mueh.append(1)\n",
    "    q = 1 - p\n",
    "    for i in range(N-2):\n",
    "        vi = pow(p, i)/(pow(q, i+1))\n",
    "        mueh.append(vi)\n",
    "    \n",
    "    mueh.append(pow(p, N-2)/(pow(q, N-2)))\n",
    "    total = sum(mueh)\n",
    "    for i in range(N):\n",
    "        mueh[i] = mueh[i]/total\n",
    "        \n",
    "    return mueh\n",
    "\n",
    "\n",
    "mueh = Minv(10,0.6)\n",
    "print(mueh)\n",
    "#print(sum(mueh))\n",
    "#(b)\n",
    "plt.plot(Minv(20,0.5))\n",
    "plt.plot(Minv(20, 1/3))"
   ]
  },
  {
   "cell_type": "markdown",
   "metadata": {
    "collapsed": true
   },
   "source": [
    "c) Definiere eine Funktion $\\texttt{Transition}$, die als Input $n,p$ und ein Vektor mit einer Wahrscheinlichkeitsverteilung der Markovkette hat, und als Output die Wahrscheinlichkeitsverteilung nach eine Zeiteinheit wiedergibt. Testen Sie es in dem für $N=20$ und $p=1/3$ mit $\\texttt{print(Minv(N,p)-Transition(N,p,Minv(N,p)))}$ (es sollte $0$ ergeben, bis auf Numerische Rundungen)\n",
    "\n"
   ]
  },
  {
   "cell_type": "code",
   "execution_count": 3,
   "metadata": {
    "scrolled": true
   },
   "outputs": [
    {
     "name": "stdout",
     "output_type": "stream",
     "text": [
      "[[0.  1.  0.  0.  0.  0.  0.  0.  0.  0. ]\n",
      " [0.5 0.  0.5 0.  0.  0.  0.  0.  0.  0. ]\n",
      " [0.  0.5 0.  0.5 0.  0.  0.  0.  0.  0. ]\n",
      " [0.  0.  0.5 0.  0.5 0.  0.  0.  0.  0. ]\n",
      " [0.  0.  0.  0.5 0.  0.5 0.  0.  0.  0. ]\n",
      " [0.  0.  0.  0.  0.5 0.  0.5 0.  0.  0. ]\n",
      " [0.  0.  0.  0.  0.  0.5 0.  0.5 0.  0. ]\n",
      " [0.  0.  0.  0.  0.  0.  0.5 0.  0.5 0. ]\n",
      " [0.  0.  0.  0.  0.  0.  0.  0.5 0.  0.5]\n",
      " [0.  0.  0.  0.  0.  0.  0.  0.  1.  0. ]]\n",
      "0.0\n",
      "0.0\n",
      "0.0\n",
      "0.0\n",
      "0.0\n",
      "0.0\n",
      "0.0\n",
      "0.0\n",
      "0.0\n",
      "0.0\n"
     ]
    }
   ],
   "source": [
    "#(c)\n",
    "\n",
    "p = 0.5\n",
    "N = 10\n",
    "\n",
    "def create_MC(N,p):\n",
    "    q = 1-p\n",
    "    MC = np.zeros( (N, N) )\n",
    "    MC[0][1] = 1\n",
    "\n",
    "    for i in range(1,N-1):\n",
    "        for j in range(N):\n",
    "            if j == (i - 1):\n",
    "                MC[i, j] = q\n",
    "            elif j == (i+1):\n",
    "                MC[i, j] = p\n",
    "\n",
    "    MC[N-1][N-2] = 1\n",
    "    return MC\n",
    "print(create_MC(N,p))\n",
    "\n",
    "def Transition(N,p, mueh):\n",
    "    MC = create_MC(N,p)\n",
    "    trans = np.matmul(mueh, MC)\n",
    "    return trans\n",
    "\n",
    "for i in range(N):\n",
    "    print(Minv(N,p)[i] - Transition(N, p, Minv(N,p))[i])\n"
   ]
  },
  {
   "cell_type": "markdown",
   "metadata": {},
   "source": [
    "d) Für die Anfangsbedingung $P(X_0=0)=1$, definiere eine Funktion, die als Input $t$ und als Output ein Plot der Wahrscheinlichkeitsverteilung der Markov Kette zur Zeit $t$.\n",
    "\n",
    "Für $N=10$, $p=1/2$ und $T=50$, erstellen Sie mithilfe von 𝚒𝚗𝚝𝚎𝚛𝚊𝚌𝚝𝚒𝚟𝚎 ein entsprechendes Histogramm für Wahrscheinlichkeitsverteilung der Markov Kette in den Zeitintervall $[0,T]$. Was beobachten Sie? Scheint die Wahrscheinlichkeitsverteilung zu konvergieren?"
   ]
  },
  {
   "cell_type": "code",
   "execution_count": 20,
   "metadata": {},
   "outputs": [
    {
     "data": {
      "application/vnd.jupyter.widget-view+json": {
       "model_id": "c73c22e1f0304e8e9fbd5d52283accdd",
       "version_major": 2,
       "version_minor": 0
      },
      "text/plain": [
       "interactive(children=(IntSlider(value=1, description='k', max=50), Output()), _dom_classes=('widget-interact',…"
      ]
     },
     "metadata": {},
     "output_type": "display_data"
    },
    {
     "data": {
      "text/plain": [
       "<function __main__.update(k)>"
      ]
     },
     "execution_count": 20,
     "metadata": {},
     "output_type": "execute_result"
    }
   ],
   "source": [
    "#(d)\n",
    "N = 10\n",
    "p = 0.5\n",
    "T = 50\n",
    "mueh0 = np.zeros(N)\n",
    "mueh0[0] = 1\n",
    "\n",
    "def Transition_t(N,p,t,mueh):\n",
    "    MC = create_MC(N,p)\n",
    "    trans = MC\n",
    "    for i in range(t):\n",
    "        trans = np.matmul(trans, MC)\n",
    "        \n",
    "   \n",
    "    return np.matmul(mueh, trans)       \n",
    "\n",
    "def update(k):\n",
    "    mueh = Transition_t(N, p, k, mueh0)\n",
    "    plt.plot(mueh)\n",
    "    \n",
    "interact(update, k=widgets.IntSlider(min=0, max=T, step=1, value=1))\n"
   ]
  },
  {
   "cell_type": "markdown",
   "metadata": {},
   "source": [
    "(e) Setze jetzt $\\varepsilon=0.1$ fest. Betrachten wir die eine modifizierte Markov Kette, wobei wenn man auf $0$ (bzw. $N-1$) bleibt man dort with Wahrscheinlichkeit $\\varepsilon$ und spring beim Nachbarn mit Wahrscheinlichkeit $1-\\varepsilon$. Definiere eine Funktion $\\texttt{TransitionEps}$, die als Input $n,p$ und ein Vektor mit einer Wahrscheinlichkeitsverteilung dieser neue Markovkette hat, und als Output die Wahrscheinlichkeitsverteilung nach eine Zeiteinheit wiedergibt.\n",
    "\n",
    "Ist $\\texttt{Minv(N,p)}$ noch invariant?\n",
    "\n",
    "Wiederhole (d) mit dieser neue Markovkette in der Zeitintervall $[0,T]$ mit $T=1000$. Wie sieht mit der Kongergenz aus?\n",
    "\n",
    "(f) Speichere für jedes $t\\in [0,T]$, den $L^2$ Abstand zur stationäre Verteilung: $D(t)=N^{-1}\\sum_{j=0}^{N-1} (Minv(N,p)_j-Mass(\\textrm{Zeit }t)_j)^2$\n",
    "\n",
    "Erstellen Sie den plot $(t,D(t))_{t\\in [0,T]}$ und $(t,np.log(D(t)))_{t\\in [0,T]}$. Sehen Sie, dass die $L^2$ konvergent zur stationäre Verteilung ist exponential schnell?"
   ]
  },
  {
   "cell_type": "code",
   "execution_count": 26,
   "metadata": {},
   "outputs": [
    {
     "name": "stdout",
     "output_type": "stream",
     "text": [
      "[[0.1 0.9 0.  0.  0.  0.  0.  0.  0.  0. ]\n",
      " [0.5 0.  0.5 0.  0.  0.  0.  0.  0.  0. ]\n",
      " [0.  0.5 0.  0.5 0.  0.  0.  0.  0.  0. ]\n",
      " [0.  0.  0.5 0.  0.5 0.  0.  0.  0.  0. ]\n",
      " [0.  0.  0.  0.5 0.  0.5 0.  0.  0.  0. ]\n",
      " [0.  0.  0.  0.  0.5 0.  0.5 0.  0.  0. ]\n",
      " [0.  0.  0.  0.  0.  0.5 0.  0.5 0.  0. ]\n",
      " [0.  0.  0.  0.  0.  0.  0.5 0.  0.5 0. ]\n",
      " [0.  0.  0.  0.  0.  0.  0.  0.5 0.  0.5]\n",
      " [0.  0.  0.  0.  0.  0.  0.  0.  0.1 0.9]]\n",
      "-0.005555555555555557\n",
      "0.005555555555555564\n",
      "0.0\n",
      "0.0\n",
      "0.0\n",
      "0.0\n",
      "0.0\n",
      "0.0\n",
      "0.049999999999999996\n",
      "-0.05\n"
     ]
    },
    {
     "data": {
      "application/vnd.jupyter.widget-view+json": {
       "model_id": "34b4008158354e0088c1f1ac281fdaf1",
       "version_major": 2,
       "version_minor": 0
      },
      "text/plain": [
       "interactive(children=(IntSlider(value=0, description='k', max=1000, step=50), Output()), _dom_classes=('widget…"
      ]
     },
     "metadata": {},
     "output_type": "display_data"
    },
    {
     "data": {
      "text/plain": [
       "[<matplotlib.lines.Line2D at 0x7faf2e93dac0>]"
      ]
     },
     "execution_count": 26,
     "metadata": {},
     "output_type": "execute_result"
    },
    {
     "data": {
      "image/png": "[encoded data removed]",
      "text/plain": [
       "<Figure size 432x288 with 1 Axes>"
      ]
     },
     "metadata": {
      "needs_background": "light"
     },
     "output_type": "display_data"
    }
   ],
   "source": [
    "#(e) \n",
    "e = 0.1\n",
    "N = 10\n",
    "p = 0.5\n",
    "def create_MC2(N,p):\n",
    "    q = 1-p\n",
    "    MC = np.zeros( (N, N) )\n",
    "    MC[0][0] = e\n",
    "    MC[0][1] = 1-e\n",
    "    MC[N-1][N-2] = e\n",
    "    MC[N-1][N-1] = 1-e \n",
    "    \n",
    "    for i in range(1,N-1):\n",
    "        for j in range(N):\n",
    "            if j == (i - 1):\n",
    "                MC[i, j] = q\n",
    "            elif j == (i+1):\n",
    "                MC[i, j] = p\n",
    "\n",
    "\n",
    "    return MC\n",
    "\n",
    "print(create_MC2(N,p))\n",
    "\n",
    "def TransitionEps(N, p, t, mueh):\n",
    "    MC = create_MC2(N,p)\n",
    "    trans = mueh\n",
    "    for i in range(t):\n",
    "        trans = np.matmul(trans, MC)\n",
    "        \n",
    "    return trans \n",
    "\n",
    "for i in range(N):\n",
    "    print(Minv(N,p)[i] - TransitionEps(N, p, 1, Minv(N,p))[i])\n",
    "\n",
    "T = 1000\n",
    "def update2(k):\n",
    "    mueh = TransitionEps(N, p, k, mueh0)\n",
    "    plt.plot(mueh)\n",
    "    \n",
    "interact(update2, k=widgets.IntSlider(min=0, max=T, step=50, value=0))\n",
    "\n",
    "\n",
    "#(f)\n",
    "dist = []\n",
    "def total_dist(N, mueh1, mueh2):\n",
    "    loc_dist = 0\n",
    "    for i in range(N):\n",
    "        loc_dist = loc_dist + pow((mueh1[i] - mueh2[i]),2)\n",
    "    return loc_dist\n",
    "\n",
    "stat = Minv(N,p)\n",
    "for i in range(T):\n",
    "    dist.append(total_dist(N, stat, TransitionEps(N, p, i, mueh0)))\n",
    "\n",
    "plt.plot(range(T), dist)\n",
    "plt.plot(range(T), np.log(dist))"
   ]
  },
  {
   "cell_type": "code",
   "execution_count": null,
   "metadata": {},
   "outputs": [],
   "source": []
  }
 ],
 "metadata": {
  "anaconda-cloud": {},
  "kernelspec": {
   "display_name": "Python 3",
   "language": "python",
   "name": "python3"
  },
  "language_info": {
   "codemirror_mode": {
    "name": "ipython",
    "version": 3
   },
   "file_extension": ".py",
   "mimetype": "text/x-python",
   "name": "python",
   "nbconvert_exporter": "python",
   "pygments_lexer": "ipython3",
   "version": "3.8.5"
  }
 },
 "nbformat": 4,
 "nbformat_minor": 1
}
